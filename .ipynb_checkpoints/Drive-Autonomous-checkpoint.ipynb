{
 "cells": [
  {
   "cell_type": "code",
   "execution_count": 2,
   "metadata": {
    "scrolled": true
   },
   "outputs": [],
   "source": [
    "import numpy as np\n",
    "import os\n",
    "import pandas as pd\n",
    "import PIL\n",
    "import PIL.Image\n",
    "from sklearn.utils import shuffle\n",
    "from matplotlib import pyplot as plt\n",
    "\n",
    "from keras.models import Sequential, Model\n",
    "from keras.layers import Input, merge, Activation\n",
    "from keras.layers.core import Flatten, Dense, Dropout, Lambda\n",
    "from keras.layers.normalization import BatchNormalization\n",
    "from keras.optimizers import Adam\n",
    "from keras.metrics import categorical_crossentropy, categorical_accuracy\n",
    "from keras.layers.convolutional import *\n",
    "from keras.callbacks import CSVLogger, ModelCheckpoint\n",
    "\n",
    "import base64\n",
    "from datetime import datetime\n",
    "import os\n",
    "import shutil\n",
    "import numpy as np\n",
    "import socketio\n",
    "import eventlet.wsgi\n",
    "from PIL import Image\n",
    "from flask import Flask\n",
    "from io import BytesIO"
   ]
  },
  {
   "cell_type": "code",
   "execution_count": null,
   "metadata": {
    "collapsed": true
   },
   "outputs": [],
   "source": [
    "\n",
    "#initialize our server\n",
    "sio = socketio.Server()\n",
    "#our flask (web) app\n",
    "app = Flask(__name__)\n",
    "#init our model and image array as empty\n",
    "model = None\n",
    "prev_image_array = None\n",
    "\n",
    "#set min/max speed for our autonomous car\n",
    "MAX_SPEED = 25\n",
    "MIN_SPEED = 10\n",
    "\n",
    "#and a speed limit\n",
    "speed_limit = MAX_SPEED"
   ]
  },
  {
   "cell_type": "code",
   "execution_count": 4,
   "metadata": {
    "collapsed": true
   },
   "outputs": [],
   "source": [
    "def crop(image):\n",
    "    return image[60:-25, :, :]\n",
    "\n",
    "def get_model():\n",
    "    \n",
    "    img_size = (75, 320)\n",
    "    \n",
    "    model = Sequential()\n",
    "    model.add(Lambda(lambda x: x/127.5-1.0, input_shape=(3,) + img_size, output_shape = (3,) + img_size))\n",
    "    model.add(Convolution2D(24, 5, 5, activation='elu', subsample=(2, 2)))\n",
    "    model.add(BatchNormalization(axis=1))\n",
    "    \n",
    "    model.add(Convolution2D(36, 5, 5, activation='elu', subsample=(2, 2)))\n",
    "    model.add(BatchNormalization(axis=1))\n",
    "    \n",
    "    model.add(Convolution2D(48, 5, 5, activation='elu', subsample=(2, 2)))\n",
    "    model.add(BatchNormalization(axis=1))\n",
    "    \n",
    "    model.add(Convolution2D(64, 3, 3, activation='elu'))\n",
    "    model.add(BatchNormalization(axis=1))\n",
    "    \n",
    "    model.add(Convolution2D(64, 3, 3, activation='elu'))\n",
    "    model.add(BatchNormalization(axis=1))\n",
    "    \n",
    "    model.add(Flatten())\n",
    "    \n",
    "    model.add(Dense(100, activation='elu'))\n",
    "    model.add(Dropout(0.5))\n",
    "    \n",
    "    model.add(Dense(50, activation='elu'))\n",
    "    model.add(Dropout(0.5))\n",
    "    \n",
    "    model.add(Dense(10, activation='elu'))\n",
    "    model.add(Dropout(0.5))\n",
    "    \n",
    "    model.add(Dense(1))\n",
    "\n",
    "    model.compile(loss='mean_squared_error', optimizer=Adam(lr=0.0001))\n",
    "    \n",
    "    \n",
    "    return model"
   ]
  },
  {
   "cell_type": "code",
   "execution_count": null,
   "metadata": {
    "collapsed": true
   },
   "outputs": [],
   "source": [
    "\n",
    "#registering event handler for the server\n",
    "@sio.on('telemetry')\n",
    "def telemetry(sid, data):\n",
    "    if data:\n",
    "        # The current steering angle of the car\n",
    "        steering_angle = float(data[\"steering_angle\"])\n",
    "        # The current throttle of the car, how hard to push peddle\n",
    "        throttle = float(data[\"throttle\"])\n",
    "        # The current speed of the car\n",
    "        speed = float(data[\"speed\"])\n",
    "        # The current image from the center camera of the car\n",
    "        image = Image.open(BytesIO(base64.b64decode(data[\"image\"])))\n",
    "        try:\n",
    "            image = np.asarray(image)       # from PIL image to numpy array\n",
    "            image = crop(image) # apply the preprocessing\n",
    "            image = np.array([image])       # the model expects 4D array\n",
    "            image = np.transpose(image,(0,3,1,2))\n",
    "            \n",
    "            # predict the steering angle for the image\n",
    "            steering_angle = float(model.predict(image, batch_size=1))\n",
    "            # lower the throttle as the speed increases\n",
    "            # if the speed is above the current speed limit, we are on a downhill.\n",
    "            # make sure we slow down first and then go back to the original max speed.\n",
    "            global speed_limit\n",
    "            if speed > speed_limit:\n",
    "                speed_limit = MIN_SPEED  # slow down\n",
    "            else:\n",
    "                speed_limit = MAX_SPEED\n",
    "            throttle = 1.0 - steering_angle**2 - (speed/speed_limit)**2\n",
    "\n",
    "            print('{} {} {}'.format(steering_angle, throttle, speed))\n",
    "            send_control(steering_angle, throttle)\n",
    "        except Exception as e:\n",
    "            print(e)\n",
    "    else:\n",
    "        \n",
    "        sio.emit('manual', data={}, skip_sid=True)\n",
    "\n",
    "\n",
    "@sio.on('connect')\n",
    "def connect(sid, environ):\n",
    "    print(\"connect \", sid)\n",
    "    send_control(0, 0)\n",
    "\n",
    "\n",
    "def send_control(steering_angle, throttle):\n",
    "    sio.emit(\n",
    "        \"steer\",\n",
    "        data={\n",
    "            'steering_angle': steering_angle.__str__(),\n",
    "            'throttle': throttle.__str__()\n",
    "        },\n",
    "        skip_sid=True)"
   ]
  },
  {
   "cell_type": "code",
   "execution_count": 5,
   "metadata": {
    "collapsed": true
   },
   "outputs": [],
   "source": [
    "model = get_model()\n",
    "model.load_weights(\"./model.h5\")"
   ]
  },
  {
   "cell_type": "code",
   "execution_count": 6,
   "metadata": {},
   "outputs": [
    {
     "name": "stdout",
     "output_type": "stream",
     "text": [
      "____________________________________________________________________________________________________\n",
      "Layer (type)                     Output Shape          Param #     Connected to                     \n",
      "====================================================================================================\n",
      "lambda_1 (Lambda)                (None, 3, 75, 320)    0           lambda_input_1[0][0]             \n",
      "____________________________________________________________________________________________________\n",
      "convolution2d_1 (Convolution2D)  (None, 24, 36, 158)   1824        lambda_1[0][0]                   \n",
      "____________________________________________________________________________________________________\n",
      "batchnormalization_1 (BatchNorma (None, 24, 36, 158)   48          convolution2d_1[0][0]            \n",
      "____________________________________________________________________________________________________\n",
      "convolution2d_2 (Convolution2D)  (None, 36, 16, 77)    21636       batchnormalization_1[0][0]       \n",
      "____________________________________________________________________________________________________\n",
      "batchnormalization_2 (BatchNorma (None, 36, 16, 77)    72          convolution2d_2[0][0]            \n",
      "____________________________________________________________________________________________________\n",
      "convolution2d_3 (Convolution2D)  (None, 48, 6, 37)     43248       batchnormalization_2[0][0]       \n",
      "____________________________________________________________________________________________________\n",
      "batchnormalization_3 (BatchNorma (None, 48, 6, 37)     96          convolution2d_3[0][0]            \n",
      "____________________________________________________________________________________________________\n",
      "convolution2d_4 (Convolution2D)  (None, 64, 4, 35)     27712       batchnormalization_3[0][0]       \n",
      "____________________________________________________________________________________________________\n",
      "batchnormalization_4 (BatchNorma (None, 64, 4, 35)     128         convolution2d_4[0][0]            \n",
      "____________________________________________________________________________________________________\n",
      "convolution2d_5 (Convolution2D)  (None, 64, 2, 33)     36928       batchnormalization_4[0][0]       \n",
      "____________________________________________________________________________________________________\n",
      "batchnormalization_5 (BatchNorma (None, 64, 2, 33)     128         convolution2d_5[0][0]            \n",
      "____________________________________________________________________________________________________\n",
      "flatten_1 (Flatten)              (None, 4224)          0           batchnormalization_5[0][0]       \n",
      "____________________________________________________________________________________________________\n",
      "dense_1 (Dense)                  (None, 100)           422500      flatten_1[0][0]                  \n",
      "____________________________________________________________________________________________________\n",
      "dropout_1 (Dropout)              (None, 100)           0           dense_1[0][0]                    \n",
      "____________________________________________________________________________________________________\n",
      "dense_2 (Dense)                  (None, 50)            5050        dropout_1[0][0]                  \n",
      "____________________________________________________________________________________________________\n",
      "dropout_2 (Dropout)              (None, 50)            0           dense_2[0][0]                    \n",
      "____________________________________________________________________________________________________\n",
      "dense_3 (Dense)                  (None, 10)            510         dropout_2[0][0]                  \n",
      "____________________________________________________________________________________________________\n",
      "dropout_3 (Dropout)              (None, 10)            0           dense_3[0][0]                    \n",
      "____________________________________________________________________________________________________\n",
      "dense_4 (Dense)                  (None, 1)             11          dropout_3[0][0]                  \n",
      "====================================================================================================\n",
      "Total params: 559891\n",
      "____________________________________________________________________________________________________\n"
     ]
    }
   ],
   "source": [
    "model.summary()"
   ]
  },
  {
   "cell_type": "code",
   "execution_count": null,
   "metadata": {
    "collapsed": true
   },
   "outputs": [],
   "source": [
    "\n",
    "# wrap Flask application with engineio's middleware\n",
    "app = socketio.Middleware(sio, app)\n",
    "\n",
    "# deploy as an eventlet WSGI server\n",
    "eventlet.wsgi.server(eventlet.listen(('', 4567)), app)\n"
   ]
  },
  {
   "cell_type": "code",
   "execution_count": null,
   "metadata": {
    "collapsed": true
   },
   "outputs": [],
   "source": []
  },
  {
   "cell_type": "code",
   "execution_count": null,
   "metadata": {
    "collapsed": true
   },
   "outputs": [],
   "source": []
  },
  {
   "cell_type": "code",
   "execution_count": null,
   "metadata": {
    "collapsed": true
   },
   "outputs": [],
   "source": []
  },
  {
   "cell_type": "code",
   "execution_count": null,
   "metadata": {
    "collapsed": true
   },
   "outputs": [],
   "source": []
  },
  {
   "cell_type": "code",
   "execution_count": null,
   "metadata": {
    "collapsed": true
   },
   "outputs": [],
   "source": []
  }
 ],
 "metadata": {
  "kernelspec": {
   "display_name": "Python 2",
   "language": "python",
   "name": "python2"
  },
  "language_info": {
   "codemirror_mode": {
    "name": "ipython",
    "version": 2
   },
   "file_extension": ".py",
   "mimetype": "text/x-python",
   "name": "python",
   "nbconvert_exporter": "python",
   "pygments_lexer": "ipython2",
   "version": "2.7.13"
  },
  "widgets": {
   "state": {},
   "version": "1.1.2"
  }
 },
 "nbformat": 4,
 "nbformat_minor": 1
}
